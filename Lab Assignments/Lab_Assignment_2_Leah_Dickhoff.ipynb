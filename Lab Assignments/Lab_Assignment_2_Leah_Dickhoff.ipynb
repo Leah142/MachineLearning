{
 "cells": [
  {
   "cell_type": "markdown",
   "metadata": {
    "raw_mimetype": "text/markdown"
   },
   "source": [
    "# Lab Assignment 2\n",
    "\n",
    "In the third assignment you will classify hand-written digits using logistic regression.\n",
    "\n",
    "The assignment follows Andrew Ng's explanation of Logistic Regression and (re)watching his videos could be useful (Week 3)\n",
    "\n",
    "Publish your notebook (ipynb file) to your Machine Learning () repository on Github.\n",
    "\n",
    "### Deadline October 26th, 23:59\n",
    "\n",
    "Do not hand in any other files, the Notebook should contain all your answers."
   ]
  },
  {
   "cell_type": "code",
   "execution_count": 161,
   "metadata": {
    "collapsed": false
   },
   "outputs": [
    {
     "name": "stdout",
     "output_type": "stream",
     "text": [
      "Populating the interactive namespace from numpy and matplotlib\n"
     ]
    },
    {
     "name": "stderr",
     "output_type": "stream",
     "text": [
      "WARNING: pylab import has clobbered these variables: ['save']\n",
      "`%matplotlib` prevents importing * from pylab and numpy\n"
     ]
    }
   ],
   "source": [
    "%pylab inline"
   ]
  },
  {
   "cell_type": "markdown",
   "metadata": {},
   "source": [
    "Scikit-learn has the dataset built in. The dataset contains images of hand-written digits that are only 8 by 8 pixels, which means the algorithm (logistic regression) should run on every computer.\n",
    "\n",
    "The code in the following cell shows how to work with the digits dataset and  how to visualize it. As you can see the numbers are not very clear in 8x8 pixels images, this means we cannot expect our logistic regression will have a very high classification score."
   ]
  },
  {
   "cell_type": "code",
   "execution_count": 162,
   "metadata": {
    "collapsed": false
   },
   "outputs": [
    {
     "name": "stdout",
     "output_type": "stream",
     "text": [
      "The numbers shown are: \n",
      "[[0 1 2 3 4]\n",
      " [5 6 7 8 9]]\n"
     ]
    },
    {
     "data": {
      "image/png": "[encoded data removed]",
      "text/plain": [
       "<matplotlib.figure.Figure at 0x110fd11d0>"
      ]
     },
     "metadata": {},
     "output_type": "display_data"
    }
   ],
   "source": [
    "from sklearn.datasets import load_digits\n",
    "\n",
    "digits = load_digits(n_class=10)\n",
    "\n",
    "#Create two rows with numbers\n",
    "firstrow = np.hstack(digits.images[:5,:,:]) #':' fills in all the values for those dim.\n",
    "secondrow = np.hstack(digits.images[5:10,:,:])\n",
    "\n",
    "plt.gray()\n",
    "plt.axis('off')\n",
    "\n",
    "#Show both rows at the same time\n",
    "plt.imshow(np.vstack((firstrow,secondrow)))\n",
    "\n",
    "print \"The numbers shown are: \\n\", np.vstack((digits.target[:5], digits.target[5:10]))"
   ]
  },
  {
   "cell_type": "markdown",
   "metadata": {},
   "source": [
    "## The implementation\n",
    "\n",
    "You have to implement the next three functions and fill in the body of the loop in order to create a correct implementation of logistic regression. Don't change the definitions of the functions and input parameters.\n",
    "\n",
    "Make sure that you do not overfit by keeping track of the score on the test set and implementing a correct stop condition. Also pick a learning rate alpha that makes sure the algorithm learns in a smooth and stable manner.\n",
    "\n",
    "Plot how your score on the test set improves over time. My best score was about 85% correct!\n",
    "\n",
    "Make sure to comment your code."
   ]
  },
  {
   "cell_type": "code",
   "execution_count": 163,
   "metadata": {
    "collapsed": false
   },
   "outputs": [],
   "source": [
    "#Make a prediction function h\n",
    "def prediction_function(x,theta):\n",
    "    #transpose theta\n",
    "    theta_t = np.transpose(theta)\n",
    "    #calculate prediction function by calculating the sigmoid function\n",
    "    sigmoid = np.divide(1,(np.add(1,np.exp(-(theta_t.dot(x))))))\n",
    "    return sigmoid"
   ]
  },
  {
   "cell_type": "code",
   "execution_count": 164,
   "metadata": {
    "collapsed": false
   },
   "outputs": [],
   "source": [
    "#Create a function that returns the gradient values, given h (x_predict), y and x:\n",
    "def compute_gradient(x_predict, y, x):\n",
    "    #define m as the size (number of values) of the dataset\n",
    "    m = len(x_predict)\n",
    "    #calculate the partial derivative of the cost function\n",
    "    part_deriv = np.divide(np.outer((x_predict-y),x),m)\n",
    "    return part_deriv"
   ]
  },
  {
   "cell_type": "code",
   "execution_count": 165,
   "metadata": {
    "collapsed": false
   },
   "outputs": [
    {
     "name": "stdout",
     "output_type": "stream",
     "text": [
      "Iterations  Correct tests  Correct percentage\n",
      "25          251            84.51\n",
      "26          254            85.52\n",
      "27          255            85.86\n",
      "28          255            85.86\n",
      "29          255            85.86\n",
      "30          256            86.20\n",
      "31          256            86.20\n",
      "32          257            86.53\n",
      "33          257            86.53\n",
      "34          257            86.53\n",
      "35          257            86.53\n",
      "36          257            86.53\n",
      "37          258            86.87\n",
      "38          258            86.87\n",
      "39          258            86.87\n",
      "40          257            86.53\n",
      "41          256            86.20\n",
      "42          256            86.20\n",
      "43          256            86.20\n",
      "44          256            86.20\n",
      "45          257            86.53\n",
      "46          257            86.53\n",
      "47          257            86.53\n",
      "48          257            86.53\n",
      "49          258            86.87\n",
      "50          258            86.87\n",
      "51          258            86.87\n",
      "52          258            86.87\n",
      "53          258            86.87\n",
      "54          258            86.87\n",
      "55          258            86.87\n",
      "Conclusion: The maximum percentage of 86.87 is acquired with 37 iterations.\n",
      "\n",
      "Plot of number of iterations on x-axis and percentages on y-axis:\n"
     ]
    },
    {
     "data": {
      "text/plain": [
       "[<matplotlib.lines.Line2D at 0x10fd51450>]"
      ]
     },
     "execution_count": 165,
     "metadata": {},
     "output_type": "execute_result"
    },
    {
     "data": {
      "image/png": "[encoded data removed]",
      "text/plain": [
       "<matplotlib.figure.Figure at 0x11023c450>"
      ]
     },
     "metadata": {},
     "output_type": "display_data"
    }
   ],
   "source": [
    "#choose a suitable learning rate\n",
    "alpha = 0.01\n",
    "#define the number of iterations the algorithm starts with\n",
    "min_iterations = 25\n",
    "#define the number of times that the iterations get increased by 1\n",
    "max_incr_iterat = 30\n",
    "#define theta as a matrix filled with zeros\n",
    "theta = np.zeros((64,10))\n",
    "\n",
    "#initialize dtheta\n",
    "dtheta = 0\n",
    "\n",
    "#It is important to check that you're not overfitting by testing your prediction on a testset\n",
    "#turns 3-dim. into a 2-dim. 1500 x array (every row one image)\n",
    "x = np.reshape(digits.images[:1500],(1500,64))\n",
    "#testset (1500 to the end); 297 = total number of images - 1500\n",
    "x_test = np.reshape(digits.images[1500:],(297,64))\n",
    "\n",
    "target = digits.target[:1500]\n",
    "target_test = digits.target[1500:]\n",
    "\n",
    "#function calculating gradient descent\n",
    "def learn(x, target, theta, iterations):\n",
    "    for i in range(iterations):\n",
    "        for j in range(x.shape[0]):\n",
    "            #define x_predict as the prediction function h\n",
    "            x_predict = prediction_function(x[j,:],theta)\n",
    "            #create a y vector filled with zeros\n",
    "            y = np.zeros(10)\n",
    "            #set the right class equal to 1\n",
    "            y[target[j]] = 1\n",
    "            #define dtheta as the partial derivative of the cost function\n",
    "            dtheta = compute_gradient(x_predict,y,x[j,:])\n",
    "            #update theta after every iteration \n",
    "            theta = np.add(theta, np.multiply(-alpha, dtheta.T))    \n",
    "    return theta\n",
    "                                      \n",
    "#function counting how many correct tests there are\n",
    "def counting(x, target, theta):\n",
    "    #initialize the number of correct tests\n",
    "    count = 0\n",
    "    for i in range(x.shape[0]): \n",
    "        x_predict = prediction_function(x[i,:],theta)\n",
    "        #check if the maximum x_predict is the target, if yes, increase count by 1\n",
    "        if x_predict.argmax() == target[i]:\n",
    "            count += 1\n",
    "    return count\n",
    "\n",
    "#make list to save percentages in\n",
    "save = np.zeros(max_incr_iterat + 1) #to go through loop 'max_incr_iterat' times\n",
    "#print header of table\n",
    "print \"Iterations  Correct tests  Correct percentage\"\n",
    "\n",
    "#start with the previoulsy defined minimum number of iterations\n",
    "iterations = min_iterations\n",
    "for i in range(save.shape[0]):\n",
    "    #calculate gradient descent\n",
    "    theta = learn(x, target, theta, iterations)\n",
    "    #find the bumber of correct tests\n",
    "    count = counting(x_test, target_test, theta)\n",
    "    #calculate the percentage of correct tests\n",
    "    p = 100 * float(count) / x_test.shape[0]\n",
    "    #save calculated percentage by adding it to the 'save' list\n",
    "    save[i] = p\n",
    "    #print the calculated values for each iteration in each row of the table\n",
    "    print iterations, \"        \", count, \"          \", (\"%.2f\" % p) #print 2 decimal places for the percentage\n",
    "    #go to next iteration\n",
    "    iterations += 1\n",
    "\n",
    "#look for the maximum percentage and what number of iterations was used for it \n",
    "max_p = save.argmax()\n",
    "print \"Conclusion: The maximum percentage of\",(\"%.2f\" % save[max_p]) , \"is acquired with\", (max_p+min_iterations), \"iterations.\\n\"\n",
    "\n",
    "#plot number of iterations on x-axis and percentages on y-axis \n",
    "list_iterations = []\n",
    "for i in range(min_iterations, min_iterations + max_incr_iterat + 1):\n",
    "    list_iterations.append(i)\n",
    "print \"Plot of number of iterations on x-axis and percentages on y-axis:\"\n",
    "plt.plot(list_iterations, save)\n",
    "\n",
    "#NOTE: going up to higher iterations makes the program to heavy to be successfully uploaded onto GitHub."
   ]
  },
  {
   "cell_type": "code",
   "execution_count": null,
   "metadata": {
    "collapsed": false
   },
   "outputs": [],
   "source": []
  }
 ],
 "metadata": {
  "anaconda-cloud": {},
  "celltoolbar": "Raw Cell Format",
  "kernelspec": {
   "display_name": "Python [Root]",
   "language": "python",
   "name": "Python [Root]"
  },
  "language_info": {
   "codemirror_mode": {
    "name": "ipython",
    "version": 2
   },
   "file_extension": ".py",
   "mimetype": "text/x-python",
   "name": "python",
   "nbconvert_exporter": "python",
   "pygments_lexer": "ipython2",
   "version": "2.7.12"
  }
 },
 "nbformat": 4,
 "nbformat_minor": 0
}
